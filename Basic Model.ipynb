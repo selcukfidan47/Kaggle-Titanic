{
 "metadata": {
  "name": "",
  "signature": "sha256:52ee69abfb0dc21ad03288c1a2ec871e21022efdc859798b41d7fc684454bbe3"
 },
 "nbformat": 3,
 "nbformat_minor": 0,
 "worksheets": [
  {
   "cells": [
    {
     "cell_type": "code",
     "collapsed": false,
     "input": [
      "#Import modules to be used within this code\n",
      "import csv as csv\n",
      "import numpy as np\n",
      "\n",
      "#Create a pointer to a csv file and get the header, but move to next row\n",
      "csv_file_object = csv.reader(open('/Users/jhevrin2/Documents/Jeff Documents/Kaggle/Titanic/train.csv', 'rb'))\n",
      "header = csv_file_object.next()\n",
      "\n",
      "#Create a matrix and loop through each row and keep appending to the matrix\n",
      "data = []\n",
      "for row in csv_file_object:\n",
      "    data.append(row)\n",
      "#Turn the data matrix into a numpy array\n",
      "data = np.array(data)"
     ],
     "language": "python",
     "metadata": {},
     "outputs": [],
     "prompt_number": 1
    },
    {
     "cell_type": "code",
     "collapsed": false,
     "input": [
      "#Get some basic statistics and print out the results\n",
      "number_passengers = np.size(data[0::,1].astype(np.float))\n",
      "number_survived = np.sum(data[0::,1].astype(np.float))\n",
      "proportion_survivors = number_survived/number_passengers\n",
      "\n",
      "print 'Number of Passengers: %s' % number_passengers\n",
      "print 'Number of Survived: %s' % number_survived\n",
      "print 'Proportion: %s' % proportion_survivors"
     ],
     "language": "python",
     "metadata": {},
     "outputs": [],
     "prompt_number": 12
    },
    {
     "cell_type": "code",
     "collapsed": false,
     "input": [
      "#Create a mask that will be used to filter data based on male or female only\n",
      "women_only_stats = data[0::,4] == \"female\"\n",
      "men_only_stats = data[0::,4] != \"female\""
     ],
     "language": "python",
     "metadata": {},
     "outputs": [],
     "prompt_number": 18
    },
    {
     "cell_type": "code",
     "collapsed": false,
     "input": [
      "#Use the mask above to compute the total number of women/men aboard\n",
      "women_onboard = data[women_only_stats,1].astype(np.float)\n",
      "men_onboard = data[men_only_stats,1].astype(np.float)\n",
      "\n",
      "#Compute the proportion and print\n",
      "proportion_women_survived = np.sum(women_onboard) / np.size(women_onboard)\n",
      "proportion_men_survived = np.sum(men_onboard) / np.size(men_onboard)\n",
      "\n",
      "print 'Proportion of women who survived is %s' % proportion_women_survived\n",
      "print 'Proportion of men who survived is %s' % proportion_men_survived"
     ],
     "language": "python",
     "metadata": {},
     "outputs": [
      {
       "output_type": "stream",
       "stream": "stdout",
       "text": [
        "Proportion of women who survived is 0.742038216561\n",
        "Proportion of men who survived is 0.188908145581\n"
       ]
      }
     ],
     "prompt_number": 20
    },
    {
     "cell_type": "code",
     "collapsed": false,
     "input": [
      "#Create a pointer to the test file and skip the header again\n",
      "test_file = open('/Users/jhevrin2/Documents/Jeff Documents/Kaggle/Titanic/test.csv', 'rb')\n",
      "test_file_object = csv.reader(test_file)\n",
      "header = test_file_object.next()"
     ],
     "language": "python",
     "metadata": {},
     "outputs": [],
     "prompt_number": 30
    },
    {
     "cell_type": "code",
     "collapsed": false,
     "input": [
      "#Create a pointer to a file that will be used to write data back to from the model\n",
      "prediction_file = open(\"/Users/jhevrin2/Documents/Jeff Documents/Kaggle/Titanic/genderbasedmodel.csv\", \"wb\")\n",
      "prediction_file_object = csv.writer(prediction_file)"
     ],
     "language": "python",
     "metadata": {},
     "outputs": [],
     "prompt_number": 31
    },
    {
     "cell_type": "code",
     "collapsed": false,
     "input": [
      "#Using the final file to write to, put a header with passenger ID and survived\n",
      "prediction_file_object.writerow([\"PassengerId\", \"Survived\"])\n",
      "\n",
      "#Loop through each row on the test file and if male, put a 0, if female, put a 1\n",
      "for row in test_file_object: \n",
      "    if row[3] == 'female':                                       \n",
      "        prediction_file_object.writerow([row[0],'1']) \n",
      "    else:        \n",
      "        prediction_file_object.writerow([row[0],'0']) \n",
      "#Close the test file\n",
      "test_file.close()\n",
      "#Close the prediction file\n",
      "prediction_file.close()\n"
     ],
     "language": "python",
     "metadata": {},
     "outputs": [],
     "prompt_number": 32
    },
    {
     "cell_type": "code",
     "collapsed": false,
     "input": [
      "fare_ceiling = 40\n",
      "# then modify the data in the Fare column to = 39, if it is greater or equal to the ceiling\n",
      "data[ data[0::,9].astype(np.float) >= fare_ceiling, 9 ] = fare_ceiling - 1.0\n",
      "\n",
      "fare_bracket_size = 10\n",
      "number_of_price_brackets = fare_ceiling / fare_bracket_size\n",
      "number_of_classes = 3                             # I know there were 1st, 2nd and 3rd classes on board.\n",
      "number_of_classes = len(np.unique(data[0::,2]))   # But it's better practice to calculate this from the Pclass directly:\n",
      "\n",
      "survival_table = np.zeros([2,number_of_classes,number_of_price_brackets],float)"
     ],
     "language": "python",
     "metadata": {},
     "outputs": [],
     "prompt_number": 44
    },
    {
     "cell_type": "code",
     "collapsed": false,
     "input": [
      "for i in xrange(number_of_classes):\n",
      "    for j in xrange(number_of_price_brackets):\n",
      "\n",
      "        women_only_stats = data[ (data[0::,4] == \"female\") \\\n",
      "                                 & (data[0::,2].astype(np.float) == i+1) \\\n",
      "                                 & (data[0:,9].astype(np.float) >= j*fare_bracket_size) \\\n",
      "                                 & (data[0:,9].astype(np.float) < (j+1)*fare_bracket_size), 1]\n",
      "\n",
      "        men_only_stats = data[ (data[0::,4] != \"female\") \\\n",
      "                                 & (data[0::,2].astype(np.float) == i+1) \\\n",
      "                                 & (data[0:,9].astype(np.float) >= j*fare_bracket_size) \\\n",
      "                                 & (data[0:,9].astype(np.float) < (j+1)*fare_bracket_size), 1]\n",
      "\n",
      "                                 #if i == 0 and j == 3:\n",
      "\n",
      "        survival_table[0,i,j] = np.mean(women_only_stats.astype(np.float))  # Female stats\n",
      "        survival_table[1,i,j] = np.mean(men_only_stats.astype(np.float))    # Male stats"
     ],
     "language": "python",
     "metadata": {},
     "outputs": [
      {
       "output_type": "stream",
       "stream": "stderr",
       "text": [
        "/Users/jhevrin2/anaconda/lib/python2.7/site-packages/numpy/core/_methods.py:59: RuntimeWarning: Mean of empty slice.\n",
        "  warnings.warn(\"Mean of empty slice.\", RuntimeWarning)\n",
        "/Users/jhevrin2/anaconda/lib/python2.7/site-packages/numpy/core/_methods.py:71: RuntimeWarning: invalid value encountered in double_scalars\n",
        "  ret = ret.dtype.type(ret / rcount)\n"
       ]
      }
     ],
     "prompt_number": 45
    },
    {
     "cell_type": "code",
     "collapsed": false,
     "input": [
      "survival_table[ survival_table != survival_table ] = 0."
     ],
     "language": "python",
     "metadata": {},
     "outputs": [],
     "prompt_number": 46
    },
    {
     "cell_type": "code",
     "collapsed": false,
     "input": [
      "print survival_table"
     ],
     "language": "python",
     "metadata": {},
     "outputs": [
      {
       "output_type": "stream",
       "stream": "stdout",
       "text": [
        "[[[ 0.          0.          0.83333333  0.97727273]\n",
        "  [ 0.          0.91428571  0.9         1.        ]\n",
        "  [ 0.59375     0.58139535  0.33333333  0.125     ]]\n",
        "\n",
        " [[ 0.          0.          0.4         0.38372093]\n",
        "  [ 0.          0.15873016  0.16        0.21428571]\n",
        "  [ 0.11153846  0.23684211  0.125       0.24      ]]]\n"
       ]
      }
     ],
     "prompt_number": 47
    },
    {
     "cell_type": "code",
     "collapsed": false,
     "input": [
      "survival_table[ survival_table < 0.5 ] = 0\n",
      "survival_table[ survival_table >= 0.5 ] = 1  "
     ],
     "language": "python",
     "metadata": {},
     "outputs": [],
     "prompt_number": 48
    },
    {
     "cell_type": "code",
     "collapsed": false,
     "input": [
      "print survival_table"
     ],
     "language": "python",
     "metadata": {},
     "outputs": [
      {
       "output_type": "stream",
       "stream": "stdout",
       "text": [
        "[[[ 0.  0.  1.  1.]\n",
        "  [ 0.  1.  1.  1.]\n",
        "  [ 1.  1.  0.  0.]]\n",
        "\n",
        " [[ 0.  0.  0.  0.]\n",
        "  [ 0.  0.  0.  0.]\n",
        "  [ 0.  0.  0.  0.]]]\n"
       ]
      }
     ],
     "prompt_number": 49
    },
    {
     "cell_type": "code",
     "collapsed": false,
     "input": [
      "#Create a pointer to the test file and skip the header again\n",
      "test_file = open('/Users/jhevrin2/Documents/Jeff Documents/Kaggle/Titanic/test.csv', 'rb')\n",
      "test_file_object = csv.reader(test_file)\n",
      "header = test_file_object.next()\n",
      "#Create a pointer to a file that will be used to write data back to from the model\n",
      "predictions_file = open(\"/Users/jhevrin2/Documents/Jeff Documents/Kaggle/Titanic/genderbasedmodel.csv\", \"wb\")\n",
      "predictions_file_object = csv.writer(prediction_file)"
     ],
     "language": "python",
     "metadata": {},
     "outputs": [],
     "prompt_number": 54
    },
    {
     "cell_type": "code",
     "collapsed": false,
     "input": [
      "# First thing to do is bin up the price file\n",
      "for row in test_file_object:\n",
      "    for j in xrange(number_of_price_brackets):\n",
      "        # If there is no fare then place the price of the ticket according to class\n",
      "        try:\n",
      "            row[8] = float(row[8])    # No fare recorded will come up as a string so\n",
      "                                      # try to make it a float\n",
      "        except:                       # If fails then just bin the fare according to the class\n",
      "            bin_fare = 3 - float(row[1])\n",
      "            break                     # Break from the loop and move to the next row\n",
      "        if row[8] > fare_ceiling:     # Otherwise now test to see if it is higher\n",
      "                                      # than the fare ceiling we set earlier\n",
      "            bin_fare = number_of_price_brackets - 1\n",
      "            break                     # And then break to the next row\n",
      "\n",
      "        if row[8] >= j*fare_bracket_size\\\n",
      "            and row[8] < (j+1)*fare_bracket_size:     # If passed these tests then loop through\n",
      "                                                      # each bin until you find the right one\n",
      "                                                      # append it to the bin_fare\n",
      "                                                      # and move to the next loop\n",
      "            bin_fare = j\n",
      "            break\n",
      "        # Now I have the binned fare, passenger class, and whether female or male, we can\n",
      "        # just cross ref their details with our survival table\n",
      "    if row[3] == 'female':\n",
      "        predictions_file_object.writerow([row[0], \"%d\" % int(survival_table[ 0, float(row[1]) - 1, bin_fare ])])\n",
      "    else:\n",
      "        predictions_file_object.writerow([row[0], \"%d\" % int(survival_table[ 1, float(row[1]) - 1, bin_fare])])\n",
      "\n",
      "# Close out the files\n",
      "test_file.close()\n",
      "predictions_file.close()"
     ],
     "language": "python",
     "metadata": {},
     "outputs": [],
     "prompt_number": 55
    },
    {
     "cell_type": "code",
     "collapsed": false,
     "input": [],
     "language": "python",
     "metadata": {},
     "outputs": []
    }
   ],
   "metadata": {}
  }
 ]
}